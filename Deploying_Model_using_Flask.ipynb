{
  "nbformat": 4,
  "nbformat_minor": 0,
  "metadata": {
    "colab": {
      "provenance": [],
      "authorship_tag": "ABX9TyNRWqyqh06gu0sL3L10FmIk",
      "include_colab_link": true
    },
    "kernelspec": {
      "name": "python3",
      "display_name": "Python 3"
    },
    "language_info": {
      "name": "python"
    }
  },
  "cells": [
    {
      "cell_type": "markdown",
      "metadata": {
        "id": "view-in-github",
        "colab_type": "text"
      },
      "source": [
        "<a href=\"https://colab.research.google.com/github/Netesh5/Machine_Learning/blob/main/Deploying_Model_using_Flask.ipynb\" target=\"_parent\"><img src=\"https://colab.research.google.com/assets/colab-badge.svg\" alt=\"Open In Colab\"/></a>"
      ]
    },
    {
      "cell_type": "code",
      "execution_count": 47,
      "metadata": {
        "id": "KzBr8nbs1fte"
      },
      "outputs": [],
      "source": [
        "from flask import Flask,render_template,request"
      ]
    },
    {
      "cell_type": "code",
      "source": [
        "!pip install pyngrok\n",
        "from pyngrok import ngrok\n",
        "!ngrok authtoken 2UnSjBuuAjx0azmO9hx6NFt98VI_2MnTntwCdF8UvGHchceRV"
      ],
      "metadata": {
        "colab": {
          "base_uri": "https://localhost:8080/"
        },
        "id": "DOcVaIfh1o4z",
        "outputId": "4e4d5598-324e-4354-fd87-104994ae58b0"
      },
      "execution_count": 29,
      "outputs": [
        {
          "output_type": "stream",
          "name": "stdout",
          "text": [
            "Requirement already satisfied: pyngrok in /usr/local/lib/python3.10/dist-packages (6.0.0)\n",
            "Requirement already satisfied: PyYAML in /usr/local/lib/python3.10/dist-packages (from pyngrok) (6.0.1)\n",
            "Authtoken saved to configuration file: /root/.ngrok2/ngrok.yml\n"
          ]
        }
      ]
    },
    {
      "cell_type": "code",
      "source": [
        "from flask_ngrok import run_with_ngrok"
      ],
      "metadata": {
        "id": "NTVhZTrd1q2C"
      },
      "execution_count": 30,
      "outputs": []
    },
    {
      "cell_type": "code",
      "source": [
        "from IPython.display import HTML"
      ],
      "metadata": {
        "id": "1tqaw69W7tAE"
      },
      "execution_count": 31,
      "outputs": []
    },
    {
      "cell_type": "code",
      "source": [
        "html_content = \"\"\"\n",
        "<!DOCTYPE html>\n",
        "<html>\n",
        "<head>\n",
        "    <title>My HTML Template</title>\n",
        "</head>\n",
        "<body>\n",
        "   <h1>Music Prediction </h1><br>\n",
        "    <form method=\"POST\" action=\"submit\">\n",
        "      Age : <input type=\"text\" name=\"age\" > <br><br>\n",
        "      Gender : <input type=\"text\" name=\"gender\" >\n",
        "      <br><br>\n",
        "      <input type=\"submit\" name=\"submit\">\n",
        "    </form>\n",
        "</body>\n",
        "</html>\n",
        "\"\"\""
      ],
      "metadata": {
        "id": "FahRT7rH7zTq"
      },
      "execution_count": 44,
      "outputs": []
    },
    {
      "cell_type": "code",
      "source": [
        "##Prediction Model\n",
        "\n",
        "from google.colab import drive\n",
        "drive.mount(\"/content/mydrive\")\n",
        "\n",
        "import pandas as pd\n",
        "from sklearn.tree import DecisionTreeClassifier\n",
        "from sklearn.model_selection import train_test_split\n",
        "import numpy as np\n",
        "from sklearn import tree\n",
        "\n"
      ],
      "metadata": {
        "colab": {
          "base_uri": "https://localhost:8080/"
        },
        "id": "nfrpfTovFRu4",
        "outputId": "2d04b826-a7c6-4f70-df4b-0f887e3e05d4"
      },
      "execution_count": 64,
      "outputs": [
        {
          "output_type": "stream",
          "name": "stdout",
          "text": [
            "Drive already mounted at /content/mydrive; to attempt to forcibly remount, call drive.mount(\"/content/mydrive\", force_remount=True).\n"
          ]
        }
      ]
    },
    {
      "cell_type": "code",
      "source": [
        "def prediction(age,gender):\n",
        "  data=pd.read_csv(\"/content/mydrive/My Drive/Machine Learning/python/music.csv\")\n",
        "\n",
        "  X=data.drop(columns=[\"genre\"])\n",
        "\n",
        "  y=data[\"genre\"]\n",
        "\n",
        " # X_train,X_test,y_train,y_test=train_test_split(X,y,test_size=0.2)\n",
        "\n",
        "  model=DecisionTreeClassifier()\n",
        "  model.fit(X,y)\n",
        "\n",
        "\n",
        "\n",
        "  value=map(gender)\n",
        "  x_test=np.array([age,value],dtype=np.float64)\n",
        "  x_test=x_test.reshape((1,-1))\n",
        "  prediction=model.predict(x_test)\n",
        "  print(prediction[0])\n",
        "\n",
        "  return prediction[0]"
      ],
      "metadata": {
        "id": "rMQbGEHjJfxB"
      },
      "execution_count": 94,
      "outputs": []
    },
    {
      "cell_type": "code",
      "source": [
        "def map(gender):\n",
        "    if gender ==\"male\" :\n",
        "      return 1\n",
        "    else:\n",
        "      return 0"
      ],
      "metadata": {
        "id": "Tf8Jq1fwNdzn"
      },
      "execution_count": 89,
      "outputs": []
    },
    {
      "cell_type": "code",
      "source": [
        "\n",
        "app=Flask(__name__)\n",
        "run_with_ngrok(app)\n",
        "\n",
        "\n",
        "\n",
        "@app.route(\"/\")\n",
        "def display():\n",
        "  return html_content\n",
        "\n",
        "@app.route(\"/submit\",methods=[\"POST\"])\n",
        "def submit():\n",
        "  if request.method==\"POST\" :\n",
        "    age=request.form[\"age\"]\n",
        "    gender=request.form[\"gender\"]\n",
        "    value= prediction(age,gender)\n",
        "    return value\n",
        "\n",
        "\n",
        "if __name__==\"__main__\":\n",
        "  app.run()\n"
      ],
      "metadata": {
        "colab": {
          "base_uri": "https://localhost:8080/"
        },
        "id": "Eu-YGZye1s-u",
        "outputId": "96ba02de-0d75-45ad-fb23-0e6a081a283b"
      },
      "execution_count": 95,
      "outputs": [
        {
          "output_type": "stream",
          "name": "stdout",
          "text": [
            " * Serving Flask app '__main__'\n",
            " * Debug mode: off\n"
          ]
        },
        {
          "output_type": "stream",
          "name": "stderr",
          "text": [
            "INFO:werkzeug:\u001b[31m\u001b[1mWARNING: This is a development server. Do not use it in a production deployment. Use a production WSGI server instead.\u001b[0m\n",
            " * Running on http://127.0.0.1:5000\n",
            "INFO:werkzeug:\u001b[33mPress CTRL+C to quit\u001b[0m\n"
          ]
        },
        {
          "output_type": "stream",
          "name": "stdout",
          "text": [
            " * Running on http://32b1-34-80-151-232.ngrok-free.app\n",
            " * Traffic stats available on http://127.0.0.1:4040\n"
          ]
        },
        {
          "output_type": "stream",
          "name": "stderr",
          "text": [
            "INFO:werkzeug:127.0.0.1 - - [01/Sep/2023 19:50:09] \"GET / HTTP/1.1\" 200 -\n",
            "INFO:werkzeug:127.0.0.1 - - [01/Sep/2023 19:50:10] \"\u001b[33mGET /favicon.ico HTTP/1.1\u001b[0m\" 404 -\n",
            "/usr/local/lib/python3.10/dist-packages/sklearn/base.py:439: UserWarning: X does not have valid feature names, but DecisionTreeClassifier was fitted with feature names\n",
            "  warnings.warn(\n",
            "INFO:werkzeug:127.0.0.1 - - [01/Sep/2023 19:50:13] \"POST /submit HTTP/1.1\" 200 -\n"
          ]
        },
        {
          "output_type": "stream",
          "name": "stdout",
          "text": [
            "HipHop\n"
          ]
        }
      ]
    },
    {
      "cell_type": "code",
      "source": [],
      "metadata": {
        "id": "R0fn7Y4T1u4h"
      },
      "execution_count": 33,
      "outputs": []
    }
  ]
}